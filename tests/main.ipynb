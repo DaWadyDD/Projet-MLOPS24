{
 "cells": [
  {
   "cell_type": "code",
   "execution_count": null,
   "metadata": {},
   "outputs": [],
   "source": [
    "import logging\n",
    "from domain.extract import extract  # Importer la fonction d'extraction\n",
    "from domain.data_preprocessing import preprocess_data  # Importer la fonction de prétraitement\n",
    "from domain.modeling import train_model, evaluate_model  # Importer les fonctions d'entraînement et d'évaluation\n",
    "from domain.decorators import log_function_call  # Importer ton décorateur si besoin\n",
    "import os\n",
    "from domain.model_training import train_and_evaluate_model"
   ]
  },
  {
   "cell_type": "code",
   "execution_count": null,
   "metadata": {},
   "outputs": [],
   "source": [
    "@log_function_call\n",
    "def main():\n",
    "    data_dir = \"chemin/vers/tes/donnees\"\n",
    "    prefix = \"german_credit\"  # Exemple de préfixe\n",
    "    x_values = [1]  # Liste des fichiers à concaténer ou autres paramètres\n",
    "\n",
    "    # Étape 1: Extraction des données\n",
    "    df = extract(data_dir, prefix, x_values)\n",
    "\n",
    "    # Étape 2: Prétraitement des données\n",
    "    df_processed = preprocess_data(df)\n",
    "\n",
    "    # Étape 3: Entraînement du modèle\n",
    "    model = train_model(df_processed)\n",
    "\n",
    "    # Étape 4: Évaluation du modèle\n",
    "    results = evaluate_model(model, df_processed)\n",
    "\n",
    "    # Étape 5: Sauvegarde des résultats, des prédictions, etc.\n",
    "    print(results)\n",
    "\n",
    "\n",
    "\n",
    "\n",
    "\n",
    "# Suppose que df est ton DataFrame avec les données\n",
    "train_and_evaluate_model(df)"
   ]
  }
 ],
 "metadata": {
  "kernelspec": {
   "display_name": "Python 3",
   "language": "python",
   "name": "python3"
  },
  "language_info": {
   "name": "python",
   "version": "3.13.0"
  }
 },
 "nbformat": 4,
 "nbformat_minor": 2
}
